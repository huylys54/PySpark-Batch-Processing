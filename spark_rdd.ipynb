{
 "cells": [
  {
   "cell_type": "code",
   "execution_count": 1,
   "id": "a5717254-804e-4db0-a6c0-9cb70e60355b",
   "metadata": {},
   "outputs": [],
   "source": [
    "from pyspark.sql import SparkSession"
   ]
  },
  {
   "cell_type": "code",
   "execution_count": 14,
   "id": "16f2d7f8-ab50-4c53-b026-b93b6e849dab",
   "metadata": {},
   "outputs": [],
   "source": [
    "spark = SparkSession.builder \\\n",
    "        .master(\"local[*]\") \\\n",
    "        .appName('test') \\\n",
    "        .getOrCreate()"
   ]
  },
  {
   "cell_type": "code",
   "execution_count": 15,
   "id": "9fb71c01-cac0-4a06-9788-dab730fc9c8d",
   "metadata": {},
   "outputs": [],
   "source": [
    "df_green = spark.read.parquet('data/pq/green/*/*/')"
   ]
  },
  {
   "cell_type": "markdown",
   "id": "94cb2cc3-0928-4d6e-8b7f-d1f0ba0c37dd",
   "metadata": {},
   "source": [
    "```\n",
    "SELECT \n",
    "    date_trunc('hour', lpep_pickup_datetime) AS hour, \n",
    "    PULocationID AS zone,\n",
    "\n",
    "    SUM(total_amount) AS amount,\n",
    "    COUNT(1) AS nu mber_records\n",
    "FROM\n",
    "    green\n",
    "WHERE\n",
    "    lpep_pickup_datetime >= '2020-01-01 00:00:00'\n",
    "GROUP BY\n",
    "    1, 2\n",
    "```"
   ]
  },
  {
   "cell_type": "code",
   "execution_count": 23,
   "id": "45ecef00-6273-486f-bac2-31d8e8a27a10",
   "metadata": {},
   "outputs": [],
   "source": [
    "rdd = df_green \\\n",
    "        .select('lpep_pickup_datetime', 'PULocationID', 'total_amount') \\\n",
    "        .rdd"
   ]
  },
  {
   "cell_type": "code",
   "execution_count": 5,
   "id": "9052498a-fb77-4faf-9543-c82f35a674a1",
   "metadata": {},
   "outputs": [],
   "source": [
    "from datetime import datetime"
   ]
  },
  {
   "cell_type": "code",
   "execution_count": 17,
   "id": "c44251e2-99b1-497b-aad9-8454ad1bff33",
   "metadata": {},
   "outputs": [],
   "source": [
    "start = datetime(year=2020, month=1, day=1)\n",
    "\n",
    "def filter_date(row):\n",
    "    return row.lpep_pickup_datetime >= start"
   ]
  },
  {
   "cell_type": "code",
   "execution_count": 19,
   "id": "2fef4118-a3b6-48e3-b2c1-256e1b3bbaef",
   "metadata": {},
   "outputs": [
    {
     "data": {
      "text/plain": [
       "[Row(lpep_pickup_datetime=datetime.datetime(2020, 1, 3, 19, 0, 1), PULocationID=244, total_amount=8.8)]"
      ]
     },
     "execution_count": 19,
     "metadata": {},
     "output_type": "execute_result"
    }
   ],
   "source": [
    "rdd \\\n",
    "    .filter(lambda row: row['lpep_pickup_datetime'] >= start).take(1)\n",
    "\n",
    "# rdd \\\n",
    "#     .filter(filter_date).take(1)"
   ]
  },
  {
   "cell_type": "code",
   "execution_count": 26,
   "id": "8fc82fa5-d240-49fc-a164-a1888c22e110",
   "metadata": {},
   "outputs": [],
   "source": [
    "row = rdd.take(10)[0]"
   ]
  },
  {
   "cell_type": "code",
   "execution_count": 28,
   "id": "753f652e-8050-4897-9e5b-42ac7b2434aa",
   "metadata": {},
   "outputs": [
    {
     "data": {
      "text/plain": [
       "datetime.datetime(2020, 1, 3, 19, 0)"
      ]
     },
     "execution_count": 28,
     "metadata": {},
     "output_type": "execute_result"
    }
   ],
   "source": [
    "row.lpep_pickup_datetime.replace(minute=0, second=0, microsecond=0) #convert to hour"
   ]
  },
  {
   "cell_type": "code",
   "execution_count": 33,
   "id": "32e97b1f-65ec-43ce-84df-e4dfd67ccf9c",
   "metadata": {},
   "outputs": [],
   "source": [
    "from collections import namedtuple\n",
    "\n",
    "revenueRow = namedtuple('RevenueRow', ['hour', 'zone', 'revenue', 'count'])"
   ]
  },
  {
   "cell_type": "code",
   "execution_count": 34,
   "id": "a98b4c4a-2a89-45ec-a944-cf0b6ba7024b",
   "metadata": {},
   "outputs": [],
   "source": [
    "def prepare_grouping(row):\n",
    "    hour = row.lpep_pickup_datetime.replace(minute=0, second=0, microsecond=0)\n",
    "    zone = row.PULocationID\n",
    "\n",
    "    amount = row.total_amount\n",
    "    count = 1\n",
    "\n",
    "    key = (hour, zone)\n",
    "    value = (amount, count)\n",
    "\n",
    "    return (key, value)\n",
    "\n",
    "def calculate_revenue(left_value, right_value):\n",
    "    left_amount, left_count = left_value\n",
    "    right_amount, right_count = right_value\n",
    "\n",
    "    output_amount = left_amount + right_amount\n",
    "    output_count = left_count + right_count\n",
    "\n",
    "    return (output_amount, output_count)\n",
    "\n",
    "def unwrap_rdd(row):\n",
    "    return revenueRow(\n",
    "        hour=row[0][0],\n",
    "        zone=row[0][1],\n",
    "        revenue=row[1][0],\n",
    "        count=row[1][1]\n",
    "    )"
   ]
  },
  {
   "cell_type": "code",
   "execution_count": 35,
   "id": "7290ca4e-c13e-49fa-b585-0c1cf9162fb7",
   "metadata": {},
   "outputs": [],
   "source": [
    "from pyspark.sql import types\n",
    "\n",
    "result_schema = types.StructType([\n",
    "    types.StructField('hour', types.TimestampType(), True),\n",
    "    types.StructField('zone', types.IntegerType(), True),\n",
    "    types.StructField('revenue', types.DoubleType(), True),\n",
    "    types.StructField('count', types.IntegerType(), True)\n",
    "])"
   ]
  },
  {
   "cell_type": "code",
   "execution_count": 36,
   "id": "58b69ada-a42f-4962-bab6-3cfef78c72bc",
   "metadata": {},
   "outputs": [],
   "source": [
    "df_result = rdd \\\n",
    "            .filter(filter_date) \\\n",
    "            .map(prepare_grouping) \\\n",
    "            .reduceByKey(calculate_revenue) \\\n",
    "            .map(unwrap_rdd) \\\n",
    "            .toDF(result_schema)"
   ]
  },
  {
   "cell_type": "code",
   "execution_count": 38,
   "id": "569c83bc-e4eb-4f6a-9bfe-6aa3135c7b33",
   "metadata": {},
   "outputs": [
    {
     "name": "stdout",
     "output_type": "stream",
     "text": [
      "+-------------------+----+------------------+-----+\n",
      "|               hour|zone|           revenue|count|\n",
      "+-------------------+----+------------------+-----+\n",
      "|2020-01-03 09:00:00| 177|45.989999999999995|    2|\n",
      "|2020-01-08 10:00:00|  95| 556.0999999999999|   28|\n",
      "|2020-01-19 10:00:00| 166| 969.2699999999991|   55|\n",
      "|2020-01-23 17:00:00|  42|376.35000000000014|   28|\n",
      "|2020-01-14 13:00:00|  82| 379.0600000000001|   20|\n",
      "|2020-01-03 18:00:00|  82| 753.3899999999996|   54|\n",
      "|2020-01-27 18:00:00| 193|114.75999999999999|    9|\n",
      "|2020-01-08 19:00:00| 264|             43.66|    3|\n",
      "|2020-01-13 11:00:00| 196|             155.8|    7|\n",
      "|2020-01-02 10:00:00| 260|            294.82|   15|\n",
      "|2020-01-05 15:00:00|  85| 54.42999999999999|    3|\n",
      "|2020-01-27 10:00:00| 157|              29.5|    1|\n",
      "|2020-01-30 13:00:00|  75| 1330.859999999999|   76|\n",
      "|2020-01-22 05:00:00| 129|              74.0|    6|\n",
      "|2020-01-22 17:00:00|  82| 716.7999999999996|   44|\n",
      "|2020-01-06 21:00:00| 215|              31.0|    1|\n",
      "|2020-01-05 09:00:00|  42| 487.6000000000002|   40|\n",
      "|2020-01-26 06:00:00| 130|              20.1|    2|\n",
      "|2020-01-17 12:00:00|  75| 805.9899999999997|   58|\n",
      "|2020-01-04 18:00:00| 256|               6.3|    1|\n",
      "+-------------------+----+------------------+-----+\n",
      "only showing top 20 rows\n",
      "\n"
     ]
    }
   ],
   "source": [
    "df_result.show()"
   ]
  }
 ],
 "metadata": {
  "kernelspec": {
   "display_name": "Python 3 (ipykernel)",
   "language": "python",
   "name": "python3"
  },
  "language_info": {
   "codemirror_mode": {
    "name": "ipython",
    "version": 3
   },
   "file_extension": ".py",
   "mimetype": "text/x-python",
   "name": "python",
   "nbconvert_exporter": "python",
   "pygments_lexer": "ipython3",
   "version": "3.11.8"
  }
 },
 "nbformat": 4,
 "nbformat_minor": 5
}
