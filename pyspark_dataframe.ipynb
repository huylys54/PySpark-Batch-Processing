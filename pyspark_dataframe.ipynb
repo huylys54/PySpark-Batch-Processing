{
 "cells": [
  {
   "cell_type": "code",
   "execution_count": null,
   "id": "be3ce8dd-7273-4425-bc36-09b0e1d3b6df",
   "metadata": {},
   "outputs": [],
   "source": [
    "!wget https://github.com/DataTalksClub/nyc-tlc-data/releases/download/fhvhv/fhvhv_tripdata_2021-01.csv.gz"
   ]
  },
  {
   "cell_type": "code",
   "execution_count": 3,
   "id": "4f5a2b39-2aa5-489f-b171-417b4d7b1255",
   "metadata": {},
   "outputs": [],
   "source": [
    "from pyspark.sql import SparkSession"
   ]
  },
  {
   "cell_type": "code",
   "execution_count": 4,
   "id": "7a8ea627-c926-42c1-8deb-fde5c66d0757",
   "metadata": {},
   "outputs": [],
   "source": [
    "spark = SparkSession.builder \\\n",
    "    .master(\"local[*]\") \\\n",
    "    .appName('test') \\\n",
    "    .getOrCreate()"
   ]
  },
  {
   "cell_type": "code",
   "execution_count": null,
   "id": "ed01c0c7-5875-4425-8a5d-54f83d892077",
   "metadata": {},
   "outputs": [],
   "source": [
    "import pandas as pd\n",
    "\n",
    "df_pd = pd.read_csv('data/fhvhv_tripdata_2021-01.csv', nrows=1001)"
   ]
  },
  {
   "cell_type": "code",
   "execution_count": 7,
   "id": "35d4de97-22da-4d23-84d6-9418bf1c1b32",
   "metadata": {},
   "outputs": [
    {
     "data": {
      "text/plain": [
       "hvfhs_license_num        object\n",
       "dispatching_base_num     object\n",
       "pickup_datetime          object\n",
       "dropoff_datetime         object\n",
       "PULocationID              int64\n",
       "DOLocationID              int64\n",
       "SR_Flag                 float64\n",
       "dtype: object"
      ]
     },
     "execution_count": 7,
     "metadata": {},
     "output_type": "execute_result"
    }
   ],
   "source": [
    "df_pd.dtypes"
   ]
  },
  {
   "cell_type": "code",
   "execution_count": 8,
   "id": "26d2c169-90f0-4c05-bd4a-ddf10c8e79d5",
   "metadata": {},
   "outputs": [
    {
     "data": {
      "text/plain": [
       "StructType([StructField('hvfhs_license_num', StringType(), True), StructField('dispatching_base_num', StringType(), True), StructField('pickup_datetime', StringType(), True), StructField('dropoff_datetime', StringType(), True), StructField('PULocationID', LongType(), True), StructField('DOLocationID', LongType(), True), StructField('SR_Flag', DoubleType(), True)])"
      ]
     },
     "execution_count": 8,
     "metadata": {},
     "output_type": "execute_result"
    }
   ],
   "source": [
    "spark.createDataFrame(df_pd).schema"
   ]
  },
  {
   "cell_type": "code",
   "execution_count": 9,
   "id": "a8e683c2-3d80-4a63-8e1d-a274b19ad9e3",
   "metadata": {},
   "outputs": [],
   "source": [
    "from pyspark.sql import types"
   ]
  },
  {
   "cell_type": "code",
   "execution_count": 12,
   "id": "027f56fa-e6e7-41ee-9809-dfac739e8c81",
   "metadata": {},
   "outputs": [],
   "source": [
    "schema = types.StructType([\n",
    "    types.StructField('hvfhs_license_num', types. StringType(), True), \n",
    "    types.StructField('dispatching_base_num', types. StringType(), True), \n",
    "    types.StructField('pickup_datetime', types. TimestampType(), True), \n",
    "    types.StructField('dropoff_datetime', types. TimestampType(), True), \n",
    "    types.StructField('PULocationID', types. IntegerType(), True), \n",
    "    types.StructField('DOLocationID', types. IntegerType(), True), \n",
    "    types.StructField('SR_Flag', types. StringType(), True)\n",
    "    ])"
   ]
  },
  {
   "cell_type": "code",
   "execution_count": null,
   "id": "f343dddb-0d50-4ac5-a605-5eb7d70fed48",
   "metadata": {},
   "outputs": [],
   "source": [
    "df = spark.read \\\n",
    "    .option('header', 'true') \\\n",
    "    .schema(schema) \\\n",
    "    .csv('data/fhvhv_tripdata_2021-01.csv')"
   ]
  },
  {
   "cell_type": "code",
   "execution_count": 17,
   "id": "11c81828-2409-4497-8b47-4adb43051a28",
   "metadata": {},
   "outputs": [],
   "source": [
    "df = df.repartition(24)"
   ]
  },
  {
   "cell_type": "code",
   "execution_count": null,
   "id": "a6039753-8f1a-42a6-82ed-e74d3ff5e715",
   "metadata": {},
   "outputs": [],
   "source": [
    "df.write.parquet('data/fhvhv/2021/01/', mode='overwrite')"
   ]
  },
  {
   "cell_type": "code",
   "execution_count": null,
   "id": "67536a10-edfe-419b-9ea9-6c993088d0fe",
   "metadata": {},
   "outputs": [],
   "source": [
    "df = spark.read.parquet('data/fhvhv/2021/01/')"
   ]
  },
  {
   "cell_type": "code",
   "execution_count": 21,
   "id": "3b2fa3dd-40a6-48a3-bde7-ba7ff25eb12b",
   "metadata": {},
   "outputs": [
    {
     "name": "stdout",
     "output_type": "stream",
     "text": [
      "root\n",
      " |-- hvfhs_license_num: string (nullable = true)\n",
      " |-- dispatching_base_num: string (nullable = true)\n",
      " |-- pickup_datetime: timestamp (nullable = true)\n",
      " |-- dropoff_datetime: timestamp (nullable = true)\n",
      " |-- PULocationID: integer (nullable = true)\n",
      " |-- DOLocationID: integer (nullable = true)\n",
      " |-- SR_Flag: string (nullable = true)\n",
      "\n"
     ]
    }
   ],
   "source": [
    "df.printSchema()"
   ]
  },
  {
   "cell_type": "code",
   "execution_count": 22,
   "id": "7c548bba-d95a-40ce-b429-9f7f034eb5d4",
   "metadata": {},
   "outputs": [],
   "source": [
    "spark.stop()"
   ]
  }
 ],
 "metadata": {
  "kernelspec": {
   "display_name": "Python 3 (ipykernel)",
   "language": "python",
   "name": "python3"
  },
  "language_info": {
   "codemirror_mode": {
    "name": "ipython",
    "version": 3
   },
   "file_extension": ".py",
   "mimetype": "text/x-python",
   "name": "python",
   "nbconvert_exporter": "python",
   "pygments_lexer": "ipython3",
   "version": "3.11.8"
  }
 },
 "nbformat": 4,
 "nbformat_minor": 5
}
