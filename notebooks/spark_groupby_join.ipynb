{
 "cells": [
  {
   "cell_type": "code",
   "execution_count": 1,
   "id": "a9bdc525-cdf1-4be0-95ca-4f2668d0f204",
   "metadata": {},
   "outputs": [],
   "source": [
    "import pyspark\n",
    "from pyspark.sql import SparkSession\n",
    "\n",
    "spark = SparkSession.builder \\\n",
    "    .master(\"local[*]\") \\\n",
    "    .appName('test') \\\n",
    "    .getOrCreate()"
   ]
  },
  {
   "cell_type": "code",
   "execution_count": 8,
   "id": "590a2a54-9aa5-48df-b8a9-4f7815c84f30",
   "metadata": {},
   "outputs": [],
   "source": [
    "df_green = spark.read.parquet('data/pq/green/*/*')\n",
    "df_green.createOrReplaceTempView('green')"
   ]
  },
  {
   "cell_type": "code",
   "execution_count": 10,
   "id": "670caaca-3874-4d27-90a0-de354d0ab29f",
   "metadata": {},
   "outputs": [],
   "source": [
    "df_green_revenue = spark.sql(\"\"\"\n",
    "SELECT \n",
    "    date_trunc('hour', lpep_pickup_datetime) AS hour, \n",
    "    PULocationID AS zone,\n",
    "\n",
    "    SUM(total_amount) AS amount,\n",
    "    COUNT(1) AS number_records\n",
    "FROM\n",
    "    green\n",
    "WHERE\n",
    "    lpep_pickup_datetime >= '2020-01-01 00:00:00'\n",
    "GROUP BY\n",
    "    1, 2\n",
    "\"\"\")"
   ]
  },
  {
   "cell_type": "code",
   "execution_count": 12,
   "id": "f0776bf2-bea4-4663-8995-5636ffab0a75",
   "metadata": {},
   "outputs": [],
   "source": [
    "df_green_revenue \\\n",
    "    .repartition(20) \\\n",
    "    .write.parquet('data/report/revenue/green', mode='overwrite')"
   ]
  },
  {
   "cell_type": "code",
   "execution_count": 2,
   "id": "bbc18b87-90fb-459b-bea1-743f2fa9c909",
   "metadata": {},
   "outputs": [
    {
     "name": "stderr",
     "output_type": "stream",
     "text": [
      "C:\\Users\\Admin\\AppData\\Local\\Programs\\Python\\Python311\\Lib\\site-packages\\pyspark\\sql\\dataframe.py:329: FutureWarning: Deprecated in 2.0, use createOrReplaceTempView instead.\n",
      "  warnings.warn(\"Deprecated in 2.0, use createOrReplaceTempView instead.\", FutureWarning)\n"
     ]
    }
   ],
   "source": [
    "df_yellow = spark.read.parquet('data/pq/yellow/*/*')\n",
    "df_yellow.createOrReplaceTempView('yellow')"
   ]
  },
  {
   "cell_type": "code",
   "execution_count": 3,
   "id": "c31bbf60-0b4f-4c79-a496-1fa7d6ca3b61",
   "metadata": {},
   "outputs": [],
   "source": [
    "df_yellow_revenue = spark.sql(\"\"\"\n",
    "SELECT \n",
    "    date_trunc('hour', tpep_pickup_datetime) AS hour, \n",
    "    PULocationID AS zone,\n",
    "\n",
    "    SUM(total_amount) AS amount,\n",
    "    COUNT(1) AS number_records\n",
    "FROM\n",
    "    yellow\n",
    "WHERE\n",
    "    tpep_pickup_datetime >= '2020-01-01 00:00:00'\n",
    "GROUP BY\n",
    "    1, 2\n",
    "\"\"\")"
   ]
  },
  {
   "cell_type": "code",
   "execution_count": 7,
   "id": "08831b89-d134-46d8-ac1c-d430aef2fbdd",
   "metadata": {},
   "outputs": [],
   "source": [
    "df_yellow_revenue \\\n",
    "    .repartition(20) \\\n",
    "    .write.parquet('data/report/revenue/yellow', mode='overwrite')"
   ]
  },
  {
   "cell_type": "code",
   "execution_count": 13,
   "id": "01c3e3ae-6b20-45a4-bf53-1c676b782d92",
   "metadata": {},
   "outputs": [],
   "source": [
    "df_green_revenue = spark.read.parquet(\"data/report/revenue/green\")\n",
    "df_yellow_revenue = spark.read.parquet(\"data/report/revenue/yellow\")"
   ]
  },
  {
   "cell_type": "code",
   "execution_count": 17,
   "id": "5b7c3031-e4a0-4d01-af39-4ae71696a77a",
   "metadata": {},
   "outputs": [],
   "source": [
    "df_green_revenue_tmp = df_green_revenue \\\n",
    "    .withColumnRenamed('amount', 'green_amount') \\\n",
    "    .withColumnRenamed('number_records', 'green_number_records')\n",
    "\n",
    "df_yellow_revenue_tmp = df_yellow_revenue \\\n",
    "    .withColumnRenamed('amount', 'yellow_amount') \\\n",
    "    .withColumnRenamed('number_records', 'yellow_number_records')"
   ]
  },
  {
   "cell_type": "code",
   "execution_count": 18,
   "id": "a688b3e4-dbb0-4265-b942-7b8b6fbd4022",
   "metadata": {},
   "outputs": [],
   "source": [
    "df_join = df_green_revenue_tmp.join(df_yellow_revenue_tmp, on=[\"hour\", \"zone\"], how='outer')"
   ]
  },
  {
   "cell_type": "code",
   "execution_count": 19,
   "id": "54affdde-79eb-48c3-a891-36f21e31cd6a",
   "metadata": {},
   "outputs": [
    {
     "name": "stdout",
     "output_type": "stream",
     "text": [
      "+-------------------+----+-----------------+--------------------+------------------+---------------------+\n",
      "|               hour|zone|     green_amount|green_number_records|     yellow_amount|yellow_number_records|\n",
      "+-------------------+----+-----------------+--------------------+------------------+---------------------+\n",
      "|2020-01-01 00:00:00|  13|             NULL|                NULL|1214.8000000000002|                   56|\n",
      "|2020-01-01 00:00:00|  18|              7.8|                   1|               5.8|                    1|\n",
      "|2020-01-01 00:00:00|  83|94.09999999999998|                   7|               9.8|                    1|\n",
      "|2020-01-01 00:00:00| 114|             NULL|                NULL| 6256.430000000005|                  333|\n",
      "|2020-01-01 00:00:00| 126|             NULL|                NULL|             170.6|                    2|\n",
      "|2020-01-01 00:00:00| 134|            69.05|                   6|              NULL|                 NULL|\n",
      "|2020-01-01 00:00:00| 161|             NULL|                NULL| 9410.210000000017|                  488|\n",
      "|2020-01-01 00:00:00| 192|             12.3|                   1|              NULL|                 NULL|\n",
      "|2020-01-01 00:00:00| 231|             NULL|                NULL|           4822.66|                  245|\n",
      "|2020-01-01 00:00:00| 262|             NULL|                NULL|2239.5199999999986|                  149|\n",
      "|2020-01-01 01:00:00|  35|           239.37|                   8|              99.4|                    2|\n",
      "|2020-01-01 01:00:00|  47|           130.46|                   3|47.400000000000006|                    3|\n",
      "|2020-01-01 01:00:00|  54|             NULL|                NULL|             27.96|                    1|\n",
      "|2020-01-01 01:00:00|  60|           156.04|                   7|              72.0|                    2|\n",
      "|2020-01-01 01:00:00|  68|             NULL|                NULL| 7338.380000000012|                  363|\n",
      "|2020-01-01 01:00:00|  77|            64.66|                   2|              NULL|                 NULL|\n",
      "|2020-01-01 01:00:00|  78|            74.33|                   3|              36.1|                    2|\n",
      "|2020-01-01 01:00:00| 108|           145.18|                   4|              58.0|                    2|\n",
      "|2020-01-01 01:00:00| 125|             NULL|                NULL|           1125.43|                   64|\n",
      "|2020-01-01 01:00:00| 137|             NULL|                NULL| 5125.959999999999|                  291|\n",
      "+-------------------+----+-----------------+--------------------+------------------+---------------------+\n",
      "only showing top 20 rows\n",
      "\n"
     ]
    }
   ],
   "source": [
    "df_join.show()"
   ]
  },
  {
   "cell_type": "code",
   "execution_count": 20,
   "id": "645c63d1-0762-4c55-be64-e7151a73af43",
   "metadata": {},
   "outputs": [],
   "source": [
    "df_join.write.parquet(\"data/report/revenue/total\", mode='overwrite')"
   ]
  },
  {
   "cell_type": "code",
   "execution_count": 21,
   "id": "2d68155e-f837-480d-8592-d9305fc06692",
   "metadata": {},
   "outputs": [],
   "source": [
    "df_join = spark.read.parquet('data/report/revenue/total')\n",
    "df_zones = spark.read.parquet('zones/')"
   ]
  },
  {
   "cell_type": "code",
   "execution_count": 23,
   "id": "af2d9eaf-e974-4c9a-9278-cd526a4fbf5e",
   "metadata": {},
   "outputs": [],
   "source": [
    "df_result = df_zones.join(df_join, df_zones.LocationID == df_join.zone)"
   ]
  },
  {
   "cell_type": "code",
   "execution_count": 24,
   "id": "8fc6d4c9-fdff-4197-b5ea-6bdb0f3d1b09",
   "metadata": {},
   "outputs": [],
   "source": [
    "df_result = df_result.drop('LocationID', 'zone')"
   ]
  },
  {
   "cell_type": "code",
   "execution_count": 25,
   "id": "8078fd55-bee1-40b0-bd7c-3967dbfb0b6a",
   "metadata": {},
   "outputs": [
    {
     "name": "stdout",
     "output_type": "stream",
     "text": [
      "+---------+------------+-------------------+-----------------+--------------------+------------------+---------------------+\n",
      "|  Borough|service_zone|               hour|     green_amount|green_number_records|     yellow_amount|yellow_number_records|\n",
      "+---------+------------+-------------------+-----------------+--------------------+------------------+---------------------+\n",
      "|Manhattan| Yellow Zone|2020-01-01 00:00:00|             NULL|                NULL|106.99999999999999|                    6|\n",
      "|Manhattan| Yellow Zone|2020-01-01 00:00:00|           107.52|                   6|6539.5100000000075|                  390|\n",
      "|    Bronx|   Boro Zone|2020-01-01 00:00:00|             17.8|                   2|              31.0|                    1|\n",
      "|    Bronx|   Boro Zone|2020-01-01 00:00:00|           160.04|                   6|57.620000000000005|                    2|\n",
      "|    Bronx|   Boro Zone|2020-01-01 00:00:00|             11.8|                   1|106.52000000000001|                    4|\n",
      "| Brooklyn|   Boro Zone|2020-01-01 00:00:00|            67.53|                   2|              NULL|                 NULL|\n",
      "|Manhattan| Yellow Zone|2020-01-01 00:00:00|             NULL|                NULL| 473.6700000000001|                   24|\n",
      "|    Bronx|   Boro Zone|2020-01-01 00:00:00|            67.77|                   4|              47.3|                    2|\n",
      "|Manhattan| Yellow Zone|2020-01-01 00:00:00|             NULL|                NULL|2791.4299999999985|                  172|\n",
      "|Manhattan| Yellow Zone|2020-01-01 00:00:00|             NULL|                NULL|2536.9599999999978|                  148|\n",
      "|   Queens|   Boro Zone|2020-01-01 00:00:00|             11.3|                   1|              NULL|                 NULL|\n",
      "|    Bronx|   Boro Zone|2020-01-01 00:00:00|            82.01|                   5|              20.1|                    2|\n",
      "|    Bronx|   Boro Zone|2020-01-01 00:00:00|             21.7|                   1|              54.6|                    1|\n",
      "| Brooklyn|   Boro Zone|2020-01-01 00:00:00|           274.95|                  10|             19.78|                    1|\n",
      "|   Queens|   Boro Zone|2020-01-01 00:00:00|546.3600000000001|                  18|             36.11|                    1|\n",
      "|    Bronx|   Boro Zone|2020-01-01 00:00:00|             41.9|                   3|              11.8|                    1|\n",
      "|    Bronx|   Boro Zone|2020-01-01 00:00:00|             NULL|                NULL|             44.59|                    1|\n",
      "|    Bronx|   Boro Zone|2020-01-01 00:00:00|           117.66|                   5|               9.3|                    1|\n",
      "| Brooklyn|   Boro Zone|2020-01-01 00:00:00|           666.34|                  28| 537.6600000000001|                   27|\n",
      "|   Queens|   Boro Zone|2020-01-01 00:00:00|             45.3|                   1|              NULL|                 NULL|\n",
      "+---------+------------+-------------------+-----------------+--------------------+------------------+---------------------+\n",
      "only showing top 20 rows\n",
      "\n"
     ]
    }
   ],
   "source": [
    "df_result.show()"
   ]
  },
  {
   "cell_type": "code",
   "execution_count": 27,
   "id": "8d30e4c3-8300-4590-99d7-558e7547505b",
   "metadata": {},
   "outputs": [],
   "source": [
    "df_result.write.parquet('tmp/revenue-zones')"
   ]
  }
 ],
 "metadata": {
  "kernelspec": {
   "display_name": "Python 3 (ipykernel)",
   "language": "python",
   "name": "python3"
  },
  "language_info": {
   "codemirror_mode": {
    "name": "ipython",
    "version": 3
   },
   "file_extension": ".py",
   "mimetype": "text/x-python",
   "name": "python",
   "nbconvert_exporter": "python",
   "pygments_lexer": "ipython3",
   "version": "3.11.8"
  }
 },
 "nbformat": 4,
 "nbformat_minor": 5
}
